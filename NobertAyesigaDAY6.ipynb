{
 "cells": [
  {
   "cell_type": "code",
   "execution_count": 2,
   "metadata": {},
   "outputs": [],
   "source": [
    "import pandas as pd\n",
    "import numpy as np\n",
    "import matplotlib.pyplot as plt\n",
    "import seaborn as sns\n",
    "from sklearn import tree\n",
    "\n",
    "import scipy.stats as stats\n",
    "from sklearn.model_selection import train_test_split\n",
    "from sklearn.tree import DecisionTreeClassifier\n",
    "from sklearn.metrics import accuracy_score\n"
   ]
  },
  {
   "cell_type": "code",
   "execution_count": 3,
   "metadata": {},
   "outputs": [
    {
     "data": {
      "text/plain": [
       "1.0"
      ]
     },
     "execution_count": 3,
     "metadata": {},
     "output_type": "execute_result"
    }
   ],
   "source": [
    "music_data = pd.read_csv('music.csv')\n",
    "X = music_data.drop(columns=['genre'])\n",
    "Predict_y = music_data['genre']\n",
    "X_train, X_test, y_train, y_test = train_test_split(X, Predict_y, test_size=0.2)\n",
    "\n",
    "model = DecisionTreeClassifier()\n",
    "model.fit(X, Predict_y)\n",
    "# predictions = model.predict([[21, 1], [22, 0]])\n",
    "predictions = model.predict(X_test)\n",
    "\n",
    "predictions\n",
    "\n",
    "score = accuracy_score(y_test, predictions)\n",
    "score\n",
    "\n"
   ]
  },
  {
   "cell_type": "code",
   "execution_count": 4,
   "metadata": {},
   "outputs": [
    {
     "name": "stdout",
     "output_type": "stream",
     "text": [
      "    age  gender      genre\n",
      "0    20       1     HipHop\n",
      "1    23       1     HipHop\n",
      "2    25       1     HipHop\n",
      "3    26       1       Jazz\n",
      "4    29       1       Jazz\n",
      "5    30       1       Jazz\n",
      "6    31       1  Classical\n",
      "7    33       1  Classical\n",
      "8    37       1  Classical\n",
      "9    20       0      Dance\n",
      "10   21       0      Dance\n",
      "11   25       0      Dance\n",
      "12   26       0   Acoustic\n",
      "13   27       0   Acoustic\n",
      "14   30       0   Acoustic\n",
      "15   31       0  Classical\n",
      "16   34       0  Classical\n",
      "17   35       0  Classical\n"
     ]
    }
   ],
   "source": [
    "print(music_data.to_string())\n"
   ]
  },
  {
   "cell_type": "code",
   "execution_count": null,
   "metadata": {},
   "outputs": [],
   "source": [
    "\n",
    "tree.export_graphviz(model, out_file=\"music-recommender.dot\", feature_names=['age', 'gender'],\n",
    "class_names=sorted(Predict_y.unique()), label='all', rounded=True, filled=True )\n"
   ]
  }
 ],
 "metadata": {
  "kernelspec": {
   "display_name": "Python 3.9.12 ('base')",
   "language": "python",
   "name": "python3"
  },
  "language_info": {
   "codemirror_mode": {
    "name": "ipython",
    "version": 3
   },
   "file_extension": ".py",
   "mimetype": "text/x-python",
   "name": "python",
   "nbconvert_exporter": "python",
   "pygments_lexer": "ipython3",
   "version": "3.9.12"
  },
  "orig_nbformat": 4,
  "vscode": {
   "interpreter": {
    "hash": "b302cdd1e032ee910f5c889c3360c28564c92ad4f326fc3102e39fbe47faee66"
   }
  }
 },
 "nbformat": 4,
 "nbformat_minor": 2
}
