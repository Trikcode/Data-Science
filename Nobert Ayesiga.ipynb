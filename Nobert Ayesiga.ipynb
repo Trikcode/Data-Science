{
 "cells": [
  {
   "cell_type": "markdown",
   "metadata": {},
   "source": [
    "GREETINGS"
   ]
  },
  {
   "cell_type": "code",
   "execution_count": 4,
   "metadata": {},
   "outputs": [
    {
     "name": "stdout",
     "output_type": "stream",
     "text": [
      "Enter your name...\n",
      "Welcome Nobert Ayesiga!\n"
     ]
    }
   ],
   "source": [
    "print(\"Enter your name...\")\n",
    "name = input()\n",
    "print(\"Welcome \" + name + \"!\")"
   ]
  },
  {
   "cell_type": "markdown",
   "metadata": {},
   "source": [
    "SHOPPING LIST\n",
    "\n",
    "[]: # Language: markdown\n",
    "[]: # Path: Nobert Ayesiga.ipynb"
   ]
  },
  {
   "cell_type": "code",
   "execution_count": 5,
   "metadata": {},
   "outputs": [
    {
     "name": "stdout",
     "output_type": "stream",
     "text": [
      "Buy milk\n",
      "Buy pasta\n",
      "Buy eggs\n",
      "Buy bread\n",
      "Buy rice\n"
     ]
    }
   ],
   "source": [
    "shopping_list = [\"milk\", \"pasta\", \"eggs\", \"books\", \"bread\", \"rice\"]\n",
    "for item in shopping_list:\n",
    "    if item == \"books\":\n",
    "        continue\n",
    "    print(\"Buy \" + item)"
   ]
  },
  {
   "cell_type": "markdown",
   "metadata": {},
   "source": [
    "UNIVERSITY DETAILS"
   ]
  },
  {
   "cell_type": "code",
   "execution_count": 7,
   "metadata": {},
   "outputs": [
    {
     "name": "stdout",
     "output_type": "stream",
     "text": [
      "Enter your name...\n",
      "Enter your age...\n",
      "Enter your student number...\n",
      "Enter your course...\n",
      "Name: Nobert, Age: 22, Student Number: 2000702063, Course: Software Engineering\n"
     ]
    }
   ],
   "source": [
    "print(\"Enter your name...\")\n",
    "name = input()\n",
    "print(\"Enter your age...\")\n",
    "age = input()\n",
    "print(\"Enter your student number...\")\n",
    "student_number = input()\n",
    "print(\"Enter your course...\")\n",
    "course = input()\n",
    "\"\"\"print details now\"\"\"\n",
    "print(\"Name: \" + name + \", Age: \" + age + \", Student Number: \" + student_number + \", Course: \" + course)"
   ]
  },
  {
   "cell_type": "markdown",
   "metadata": {},
   "source": [
    "CHECK MY DETAILS\n",
    "\n",
    "[]: # Language: markdown\n",
    "[]: # Path: Nobert Ayesiga.ipynb"
   ]
  },
  {
   "cell_type": "code",
   "execution_count": 9,
   "metadata": {},
   "outputs": [
    {
     "name": "stdout",
     "output_type": "stream",
     "text": [
      "You are too old to study\n"
     ]
    }
   ],
   "source": [
    "if int(age) < 18:\n",
    "    print(\"You studied at a young age\");\n",
    "elif int(age) == 18:\n",
    "    print(\"perfect age to study\");\n",
    "else:\n",
    "    print(\"You are too old to study\");"
   ]
  },
  {
   "cell_type": "markdown",
   "metadata": {},
   "source": [
    "LEARNNING"
   ]
  },
  {
   "cell_type": "code",
   "execution_count": null,
   "metadata": {},
   "outputs": [],
   "source": [
    "print(\"Enter your name...\");"
   ]
  }
 ],
 "metadata": {
  "kernelspec": {
   "display_name": "Python 3 (ipykernel)",
   "language": "python",
   "name": "python3"
  },
  "language_info": {
   "codemirror_mode": {
    "name": "ipython",
    "version": 3
   },
   "file_extension": ".py",
   "mimetype": "text/x-python",
   "name": "python",
   "nbconvert_exporter": "python",
   "pygments_lexer": "ipython3",
   "version": "3.9.12"
  },
  "vscode": {
   "interpreter": {
    "hash": "b302cdd1e032ee910f5c889c3360c28564c92ad4f326fc3102e39fbe47faee66"
   }
  }
 },
 "nbformat": 4,
 "nbformat_minor": 2
}
