{
 "cells": [
  {
   "cell_type": "markdown",
   "metadata": {},
   "source": [
    "NAME: AYESIGA NOBERT\n",
    "<!-- add break -->\n",
    "REGISTRATION NUMBER: 20/U/2063/EVE"
   ]
  },
  {
   "cell_type": "code",
   "execution_count": 8,
   "metadata": {},
   "outputs": [
    {
     "name": "stdout",
     "output_type": "stream",
     "text": [
      "name : Apple\n",
      "color : Red\n",
      "small\n",
      "Apple is Red and small\n",
      "large\n",
      "The size of Apple is large\n",
      "The size of Apple is large\n"
     ]
    }
   ],
   "source": [
    "\n",
    "class Fruits:\n",
    "    # create a class variable\n",
    "    size = \"small\"\n",
    "    \n",
    "    def __init__(self, name, color):\n",
    "        self.name = name\n",
    "        self.color = color\n",
    "    # returns the string representation in string format\n",
    "    def __str__(self):\n",
    "        return f\"{self.name} is {self.color} and {self.size}\" \n",
    "\n",
    "    # returns the object representation in string format\n",
    "    def __repr__(self):\n",
    "        return f\"{self.name} is {self.color} and {self.size}\"\n",
    "\n",
    "\n",
    "# create object\n",
    "apple = Fruits(\"Apple\", \"Red\")\n",
    "mango = Fruits(\"Mango\", \"Yellow\")\n",
    "\n",
    "# print all apple attributes\n",
    "for i in apple.__dict__:\n",
    "    print(i, \":\", apple.__dict__[i])\n",
    "\n",
    "print(apple.size)\n",
    "print(apple)\n",
    "#invoke the __str__ method\n",
    "apple.__str__()\n",
    "#invoke the __repr__ method\n",
    "apple.__repr__()\n",
    "\n",
    "# create instance variable\n",
    "apple.size = \"large\"\n",
    "print(apple.size)\n",
    "print(\"The size of {} is {}\".format(apple.name, apple.size))\n",
    "print(f\"The size of {apple.name} is {apple.size}\")\n",
    "\n",
    "\n",
    "\n"
   ]
  },
  {
   "cell_type": "code",
   "execution_count": 10,
   "metadata": {},
   "outputs": [
    {
     "name": "stdout",
     "output_type": "stream",
     "text": [
      "Carrot is Orange and medium\n",
      "I am eating Carrot\n",
      "True\n"
     ]
    }
   ],
   "source": [
    "\n",
    "# inheritance\n",
    "class Vegetables(Fruits):\n",
    "    def __init__(self, name, color, size):\n",
    "\n",
    "        super().__init__(name, color)\n",
    "        self.size = size\n",
    "    def eat(self):\n",
    "        print(f\"I am eating {self.name}\")\n",
    "    def __str__(self):\n",
    "        return f\"{self.name} is {self.color} and {self.size}\"\n",
    "\n",
    "# create object\n",
    "carrot = Vegetables(\"Carrot\", \"Orange\", \"medium\")\n",
    "print(carrot)\n",
    "carrot.eat()\n",
    "#Driver Code\n",
    "print(issubclass(Vegetables, Fruits))\n"
   ]
  },
  {
   "cell_type": "code",
   "execution_count": 4,
   "metadata": {},
   "outputs": [
    {
     "name": "stdout",
     "output_type": "stream",
     "text": [
      "Tomato is Red and medium and sweet\n",
      "name : Tomato\n",
      "color : Red\n",
      "size : medium\n",
      "taste : sweet\n"
     ]
    }
   ],
   "source": [
    "# create another inheritance\n",
    "class Tomatoes(Vegetables):\n",
    "    def __init__(self, name, color, size, taste):\n",
    "        super().__init__(name, color, size)\n",
    "        self.taste = taste\n",
    "\n",
    "    def __str__(self):\n",
    "        return f\"{self.name} is {self.color} and {self.size} and {self.taste}\"\n",
    "\n",
    "\n",
    "# create object\n",
    "tomato = Tomatoes(\"Tomato\", \"Red\", \"medium\", \"sweet\")\n",
    "print(tomato)\n",
    "for i in tomato.__dict__:\n",
    "    print(i, \":\", tomato.__dict__[i])\n"
   ]
  },
  {
   "cell_type": "code",
   "execution_count": 7,
   "metadata": {},
   "outputs": [
    {
     "name": "stdout",
     "output_type": "stream",
     "text": [
      "Potato is Brown and medium and sweet\n",
      "{'name': 'Potato', 'color': 'Brown', 'size': 'medium', 'taste': 'sweet'}\n"
     ]
    }
   ],
   "source": [
    "# create a derived class\n",
    "class Potatoes(Vegetables, Fruits):\n",
    "    def __init__(self, name, color, size, taste):\n",
    "        super().__init__(name, color, size)\n",
    "        self.taste = taste\n",
    "\n",
    "    def __str__(self):\n",
    "        return f\"{self.name} is {self.color} and {self.size} and {self.taste}\"\n",
    "# create object\n",
    "potato = Potatoes(\"Potato\", \"Brown\", \"medium\", \"sweet\")\n",
    "print(potato)\n",
    "print(potato.__dict__)"
   ]
  }
 ],
 "metadata": {
  "kernelspec": {
   "display_name": "Python 3.9.12 ('base')",
   "language": "python",
   "name": "python3"
  },
  "language_info": {
   "codemirror_mode": {
    "name": "ipython",
    "version": 3
   },
   "file_extension": ".py",
   "mimetype": "text/x-python",
   "name": "python",
   "nbconvert_exporter": "python",
   "pygments_lexer": "ipython3",
   "version": "3.9.12"
  },
  "orig_nbformat": 4,
  "vscode": {
   "interpreter": {
    "hash": "b302cdd1e032ee910f5c889c3360c28564c92ad4f326fc3102e39fbe47faee66"
   }
  }
 },
 "nbformat": 4,
 "nbformat_minor": 2
}
