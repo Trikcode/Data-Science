{
 "cells": [
  {
   "cell_type": "code",
   "execution_count": 18,
   "metadata": {},
   "outputs": [
    {
     "name": "stdout",
     "output_type": "stream",
     "text": [
      "Hello Nobert Ayesiga!\n",
      "You are 22 years old.\n",
      "You are studying Software Engineering.\n"
     ]
    }
   ],
   "source": [
    "# get name and age from user\n",
    "name = input(\"What is your name? \")\n",
    "age = int(input(\"How old are you? \"))\n",
    "course = input(\"What course are you studying? \")\n",
    "# print out name and age\n",
    "print(\"Hello \" + name + \"!\")\n",
    "print(\"You are \" + str(age) + \" years old.\")\n",
    "print(\"You are studying \" + course + \".\")"
   ]
  },
  {
   "cell_type": "code",
   "execution_count": 19,
   "metadata": {},
   "outputs": [
    {
     "name": "stdout",
     "output_type": "stream",
     "text": [
      "You are an adult.\n"
     ]
    }
   ],
   "source": [
    "if age >= 18:\n",
    "    print(\"You are an adult.\")\n",
    "elif age >= 13:\n",
    "    print(\"You are a teenager.\")\n",
    "else:\n",
    "    print(\"You are a child.\")"
   ]
  },
  {
   "cell_type": "markdown",
   "metadata": {},
   "source": [
    "LISTS[ARRAYS]"
   ]
  },
  {
   "cell_type": "code",
   "execution_count": 2,
   "metadata": {},
   "outputs": [
    {
     "name": "stdout",
     "output_type": "stream",
     "text": [
      "['The Holy Grail', 1975, 'Terry Jones & Terry Gilliam', 91]\n",
      "['The Holy Grail', 1975, 'Terry Jones & Terry Gilliam', 91, 'Graham Chapman']\n",
      "['The Holy Grail', 1975, 91, 'Graham Chapman']\n",
      "The Holy Grail\n"
     ]
    }
   ],
   "source": [
    "#list of movies\n",
    "movies = [\"The Holy Grail\", 1975, \"Terry Jones & Terry Gilliam\", 91,]\n",
    "print(movies)\n",
    "movies.append(\"Graham Chapman\")\n",
    "print(movies)\n",
    "movies.remove(\"Terry Jones & Terry Gilliam\")\n",
    "print(movies)\n",
    "print(movies[0])"
   ]
  },
  {
   "cell_type": "code",
   "execution_count": 10,
   "metadata": {},
   "outputs": [
    {
     "name": "stdout",
     "output_type": "stream",
     "text": [
      "4\n",
      "Ford\n",
      "Honda\n",
      "Toyota\n",
      "dog\n",
      "cow\n",
      "horse\n"
     ]
    }
   ],
   "source": [
    "\n",
    "cars = [[\"Ford\", \"Mustang\", \"Red\", \"auddi\"], [\"Honda\", \"Civic\", \"Blue\"], [\"Toyota\", \"Camry\", \"Black\"]]\n",
    "\n",
    "\n",
    "for car in cars:\n",
    "    print(car[0])\n",
    "\n",
    "\n",
    "#list of animals\n",
    "animals = [\"dog\", \"cow\", \"horse\"]\n",
    "\n",
    "for animal in animals:\n",
    "    print(animal)\n"
   ]
  },
  {
   "cell_type": "code",
   "execution_count": 4,
   "metadata": {},
   "outputs": [
    {
     "name": "stdout",
     "output_type": "stream",
     "text": [
      "Ford\n",
      "Honda\n",
      "Nissan\n",
      "Toyota\n",
      "BMW\n",
      "Audi\n",
      "Tesla\n"
     ]
    }
   ],
   "source": [
    "#tuple list\n",
    "\n",
    "cars = (\"Ford\", \"Honda\", \"Toyota\", \"BMW\", \"Audi\")\n",
    "\n",
    "cars = list(cars)\n",
    "# append at index 2\n",
    "cars.insert(2, \"Nissan\")\n",
    "cars.append(\"Tesla\")\n",
    "\n",
    "for car in cars:\n",
    "    print(car)\n"
   ]
  },
  {
   "cell_type": "code",
   "execution_count": 31,
   "metadata": {},
   "outputs": [
    {
     "name": "stdout",
     "output_type": "stream",
     "text": [
      "5\n",
      "4\n",
      "3\n",
      "2\n",
      "1\n",
      "Happy Birthday\n"
     ]
    }
   ],
   "source": [
    "#using while loop and sleep after every print\n",
    "import time\n",
    "name = input(\"What is your name? \");\n",
    "i = 6;\n",
    "while (i > 0):\n",
    "    print(i)\n",
    "    time.sleep(1)\n",
    "    i = i - 1\n",
    "    continue\n",
    "print(\"Happy Birthday\" + name + \"!\")\n"
   ]
  },
  {
   "cell_type": "code",
   "execution_count": 4,
   "metadata": {},
   "outputs": [
    {
     "name": "stdout",
     "output_type": "stream",
     "text": [
      "-------------------------\n",
      "1\n",
      "2\n",
      "3\n",
      "4\n",
      "5\n",
      "6\n",
      "7\n",
      "8\n",
      "9\n"
     ]
    }
   ],
   "source": [
    "#using for loop\n",
    "print(\"-------------------------\")\n",
    "for i in range(1, 10):\n",
    "    print(i)"
   ]
  },
  {
   "cell_type": "code",
   "execution_count": null,
   "metadata": {},
   "outputs": [],
   "source": []
  },
  {
   "cell_type": "code",
   "execution_count": 17,
   "metadata": {},
   "outputs": [
    {
     "name": "stdout",
     "output_type": "stream",
     "text": [
      "-------------------------\n",
      "<class 'dict'>\n",
      "-------------------------\n",
      "{'apple', 'banana', 'cherry'}\n"
     ]
    }
   ],
   "source": [
    "#Dictionary\n",
    "print(\"-------------------------\")\n",
    "thisdict = {\n",
    "    \"brand\": \"Ford\",\n",
    "    \"model\": \"Mustang\",\n",
    "    \"year\": 1964\n",
    "}\n",
    "# print datatype of dictionary\n",
    "print(type(thisdict))\n",
    "# print(thisdict)\n",
    "# print(thisdict[\"model\"])\n",
    "# print(thisdict.get(\"model\"))\n",
    "# print(thisdict.keys())\n",
    "# print(thisdict.values())\n",
    "# print(thisdict.items())\n",
    "# print(thisdict[\"year\"])\n",
    "# thisdict.update({\"year\": 2020})\n",
    "# print(thisdict)\n",
    "# thisdict[\"year\"] = 2021\n",
    "# print(thisdict)\n",
    "# thisdict.setdefault(\"color\", \"red\")\n",
    "# print(thisdict)\n",
    "# sets\n",
    "print(\"-------------------------\")\n",
    "thisset = {\"apple\", \"banana\", \"cherry\"}\n",
    "print(thisset)"
   ]
  },
  {
   "cell_type": "code",
   "execution_count": 22,
   "metadata": {},
   "outputs": [
    {
     "name": "stdout",
     "output_type": "stream",
     "text": [
      "True\n"
     ]
    }
   ],
   "source": [
    "#booleans\n",
    "# print(type(True))\n",
    "# print(type(False))\n",
    "# a = 200\n",
    "# b = 33\n",
    "# print(a == b)\n",
    "# print(a != b)\n",
    "# print(a > b)\n",
    "# print(a < b)\n",
    "# print(a >= b)\n",
    "# print(a <= b)\n",
    "# x = {}\n",
    "# print(type(x))\n",
    "# x =0.0\n",
    "# print(x)\n",
    "# print(type(x))\n",
    "# cast string to boolean\n",
    "x = bool(2)\n",
    "print(x)"
   ]
  },
  {
   "cell_type": "code",
   "execution_count": 27,
   "metadata": {},
   "outputs": [
    {
     "name": "stdout",
     "output_type": "stream",
     "text": [
      "False\n",
      "True\n"
     ]
    }
   ],
   "source": [
    "a = 1\n",
    "b = 2\n",
    "c = 4\n",
    "if a > b and b < c:\n",
    "    print(\"True\")\n",
    "else:\n",
    "    print(\"False\")\n",
    "\n",
    "if a and b and c:\n",
    "    print(\"True\")\n",
    "else:\n",
    "    print(\"False\")\n"
   ]
  },
  {
   "cell_type": "code",
   "execution_count": 28,
   "metadata": {},
   "outputs": [
    {
     "name": "stdout",
     "output_type": "stream",
     "text": [
      "6\n",
      "5\n",
      "4\n",
      "3\n",
      "2\n",
      "1\n",
      "Happy BirthdayJohn!\n"
     ]
    }
   ],
   "source": [
    "import time\n",
    "name = input(\"What is your name? \")\n",
    "i = 6\n",
    "while (i > 0):\n",
    "    print(i)\n",
    "    time.sleep(1)\n",
    "    i = i - 1\n",
    "    continue\n",
    "print(\"Happy Birthday\" + name + \"!\")\n"
   ]
  },
  {
   "cell_type": "code",
   "execution_count": 2,
   "metadata": {},
   "outputs": [
    {
     "name": "stdout",
     "output_type": "stream",
     "text": [
      "-------------------------\n",
      "1\n",
      "2\n",
      "3\n",
      "4\n",
      "6\n",
      "7\n",
      "8\n",
      "9\n"
     ]
    }
   ],
   "source": [
    "#using pass statement\n",
    "print(\"-------------------------\")\n",
    "for i in range(1, 10):\n",
    "    if i == 5:\n",
    "        pass\n",
    "    else:\n",
    "        print(i)\n",
    "        "
   ]
  },
  {
   "cell_type": "code",
   "execution_count": 3,
   "metadata": {},
   "outputs": [
    {
     "name": "stdout",
     "output_type": "stream",
     "text": [
      "-------------------------\n",
      "1\n",
      "2\n",
      "3\n",
      "4\n"
     ]
    }
   ],
   "source": [
    "#using break statement\n",
    "print(\"-------------------------\")\n",
    "for i in range(1, 10):\n",
    "    if i == 5:\n",
    "        break\n",
    "    else:\n",
    "        print(i)"
   ]
  }
 ],
 "metadata": {
  "kernelspec": {
   "display_name": "Python 3.9.12 ('base')",
   "language": "python",
   "name": "python3"
  },
  "language_info": {
   "codemirror_mode": {
    "name": "ipython",
    "version": 3
   },
   "file_extension": ".py",
   "mimetype": "text/x-python",
   "name": "python",
   "nbconvert_exporter": "python",
   "pygments_lexer": "ipython3",
   "version": "3.9.12"
  },
  "orig_nbformat": 4,
  "vscode": {
   "interpreter": {
    "hash": "b302cdd1e032ee910f5c889c3360c28564c92ad4f326fc3102e39fbe47faee66"
   }
  }
 },
 "nbformat": 4,
 "nbformat_minor": 2
}
